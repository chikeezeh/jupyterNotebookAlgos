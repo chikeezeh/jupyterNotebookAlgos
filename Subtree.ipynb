{
 "cells": [
  {
   "cell_type": "markdown",
   "metadata": {},
   "source": [
    "![title](img/LyElHRq.jpg)"
   ]
  },
  {
   "cell_type": "markdown",
   "metadata": {},
   "source": [
    "We want to determine if a tree can be found within a larger tree.\n",
    "As shown above, the left tree is a subtree of the right tree."
   ]
  },
  {
   "cell_type": "code",
   "execution_count": 1,
   "metadata": {
    "collapsed": true
   },
   "outputs": [],
   "source": [
    "# Build our node class\n",
    "class Node:\n",
    "    def __init__(self,data):\n",
    "        self.data = str(data)\n",
    "        self.left = None\n",
    "        self.right = None\n",
    "# build our left tree\n",
    "root = Node(10)\n",
    "n1 = Node(4)\n",
    "n2 = Node(6)\n",
    "n3 = Node (30)\n",
    "# setup the children\n",
    "root.left = n1\n",
    "root.right = n2\n",
    "n1.right = n3\n",
    "\n",
    "# build our right tree\n",
    "root_r = Node(26)\n",
    "n1_r = Node(10)\n",
    "n2_r = Node(3)\n",
    "n3_r = Node(4)\n",
    "n4_r = Node(6)\n",
    "n5_r = Node(3)\n",
    "n6_r = Node(30)\n",
    "\n",
    "# setup children\n",
    "n3_r.right = n6_r\n",
    "n1_r.left = n3_r\n",
    "n1_r.right = n4_r\n",
    "n2_r.right = n5_r\n",
    "root_r.left = n1_r\n",
    "root_r.right = n2_r"
   ]
  },
  {
   "cell_type": "code",
   "execution_count": 2,
   "metadata": {
    "collapsed": true
   },
   "outputs": [],
   "source": [
    "# a binary tree can be uniquely identified using its preorder and inorder traversal\n",
    "# so we obtain the preorder and inorder traversal arrays for both trees\n",
    "# then check if the smaller one is in the larger tree\n"
   ]
  },
  {
   "cell_type": "code",
   "execution_count": 4,
   "metadata": {},
   "outputs": [
    {
     "name": "stdout",
     "output_type": "stream",
     "text": [
      "True\n"
     ]
    }
   ],
   "source": [
    "# in-order traversal in array format\n",
    "def in_order(root, nodes):\n",
    "    if root and root.left:\n",
    "        in_order(root.left, nodes)\n",
    "    nodes.append(root.data)\n",
    "    if root and root.right:\n",
    "        in_order(root.right, nodes)\n",
    "    return nodes\n",
    "\n",
    "# pre-order traversal in array format\n",
    "def pre_order(root, nodes):\n",
    "    nodes.append(root.data)\n",
    "    if root and root.left:\n",
    "        pre_order(root.left, nodes)\n",
    "    if root and root.right:\n",
    "        pre_order(root.right, nodes)\n",
    "    return nodes\n",
    "\n",
    "# function that takes two root nodes and determines if\n",
    "# the first tree is a subtree of the second tree\n",
    "def is_subtree(root, root_r):\n",
    "\n",
    "    # the variables below will hold the values:\n",
    "    # 4-30-10-6 \n",
    "    # 4-30-10-6-26-3-3\n",
    "    inord1 = '-'.join(in_order(root, []))\n",
    "    inord2 = '-'.join(in_order(root_r, []))\n",
    "    \n",
    "    # 10-4-30-6\n",
    "    # 26-10-4-30-6-3-3\n",
    "    preord1 = '-'.join(pre_order(root, []))\n",
    "    preord2 = '-'.join(pre_order(root_r, []))\n",
    "\n",
    "    # check if the left tree is contained with the right tree\n",
    "    return inord1 in inord2 and preord1 in preord2\n",
    "\n",
    "print (is_subtree(root, root_r)) # => True"
   ]
  },
  {
   "cell_type": "markdown",
   "metadata": {},
   "source": [
    "This algorithm is O(n) in time, because we traversed the two trees twice each."
   ]
  },
  {
   "cell_type": "code",
   "execution_count": null,
   "metadata": {
    "collapsed": true
   },
   "outputs": [],
   "source": []
  }
 ],
 "metadata": {
  "kernelspec": {
   "display_name": "Python 3",
   "language": "python",
   "name": "python3"
  },
  "language_info": {
   "codemirror_mode": {
    "name": "ipython",
    "version": 3
   },
   "file_extension": ".py",
   "mimetype": "text/x-python",
   "name": "python",
   "nbconvert_exporter": "python",
   "pygments_lexer": "ipython3",
   "version": "3.6.2"
  }
 },
 "nbformat": 4,
 "nbformat_minor": 2
}
