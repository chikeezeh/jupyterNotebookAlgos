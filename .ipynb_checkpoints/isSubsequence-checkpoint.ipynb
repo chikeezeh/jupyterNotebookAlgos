{
 "cells": [
  {
   "cell_type": "code",
   "execution_count": 13,
   "metadata": {},
   "outputs": [],
   "source": [
    "# a string (s) is a subsequence of another string (t)\n",
    "# if and only if s appears in t in the order it is in s\n",
    "# For example 'ace'  is a subsequence of 'abdcfghe'\n",
    "# But 'ace' is not a subsequence of 'aebcfghd'\n",
    "# The empty string is a subsequence of any string"
   ]
  },
  {
   "cell_type": "code",
   "execution_count": 14,
   "metadata": {},
   "outputs": [],
   "source": [
    "def isSubsequence(s,t):\n",
    "    count = 0\n",
    "    rtype = False\n",
    "    if s == ' ':\n",
    "        return True\n",
    "    else:\n",
    "        for i in range(len(s)):\n",
    "            if s[i] in t:\n",
    "                a = t.find(s[i])\n",
    "                t = t[a+1:len(t)]\n",
    "                count += 1\n",
    "            if count == len(s):\n",
    "                rtype = True\n",
    "        return rtype"
   ]
  },
  {
   "cell_type": "code",
   "execution_count": 15,
   "metadata": {},
   "outputs": [
    {
     "data": {
      "text/plain": [
       "True"
      ]
     },
     "execution_count": 15,
     "metadata": {},
     "output_type": "execute_result"
    }
   ],
   "source": [
    "isSubsequence(\"sss\",\"jtssshsssksds\")"
   ]
  },
  {
   "cell_type": "code",
   "execution_count": 16,
   "metadata": {},
   "outputs": [
    {
     "data": {
      "text/plain": [
       "True"
      ]
     },
     "execution_count": 16,
     "metadata": {},
     "output_type": "execute_result"
    }
   ],
   "source": [
    "isSubsequence(\" \",\"jtssshsssksds\")"
   ]
  },
  {
   "cell_type": "code",
   "execution_count": null,
   "metadata": {},
   "outputs": [],
   "source": []
  }
 ],
 "metadata": {
  "kernelspec": {
   "display_name": "Python 3",
   "language": "python",
   "name": "python3"
  },
  "language_info": {
   "codemirror_mode": {
    "name": "ipython",
    "version": 3
   },
   "file_extension": ".py",
   "mimetype": "text/x-python",
   "name": "python",
   "nbconvert_exporter": "python",
   "pygments_lexer": "ipython3",
   "version": "3.6.4"
  }
 },
 "nbformat": 4,
 "nbformat_minor": 2
}
