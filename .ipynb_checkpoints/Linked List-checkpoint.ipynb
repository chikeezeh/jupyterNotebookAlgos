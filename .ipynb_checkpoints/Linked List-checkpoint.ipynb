{
 "cells": [
  {
   "cell_type": "code",
   "execution_count": 1,
   "metadata": {
    "collapsed": true
   },
   "outputs": [],
   "source": [
    "# A linked list consists of a group of nodes\n",
    "# where each node may point to another node to form \n",
    "# a sequence. Each node contains two fields, a \"data\" and \"next\" field.\n"
   ]
  },
  {
   "cell_type": "code",
   "execution_count": 4,
   "metadata": {},
   "outputs": [],
   "source": [
    "# Linked lists are useful and simple data structures and are \n",
    "# sometimes preferred over using arrays because inserting or deleting \n",
    "# elements can be done without reallocation or reorganization of the entire structure. \n",
    "\n",
    "# If, for example, you wanted to add an element to the beginning of the array, \n",
    "# every single other element would need to be moved and the array would need to make \n",
    "# space for one extra element. Inserting an element at the beginning of a linked list \n",
    "# simply requires you to create a new node and set its \"next\" field to point to some node, \n",
    "# making this new node the first node in the sequence now."
   ]
  },
  {
   "cell_type": "code",
   "execution_count": null,
   "metadata": {
    "collapsed": true
   },
   "outputs": [],
   "source": []
  }
 ],
 "metadata": {
  "kernelspec": {
   "display_name": "Python 3",
   "language": "python",
   "name": "python3"
  },
  "language_info": {
   "codemirror_mode": {
    "name": "ipython",
    "version": 3
   },
   "file_extension": ".py",
   "mimetype": "text/x-python",
   "name": "python",
   "nbconvert_exporter": "python",
   "pygments_lexer": "ipython3",
   "version": "3.6.2"
  }
 },
 "nbformat": 4,
 "nbformat_minor": 2
}
