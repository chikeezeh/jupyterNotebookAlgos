{
 "cells": [
  {
   "cell_type": "code",
   "execution_count": 1,
   "metadata": {},
   "outputs": [],
   "source": [
    "# Count the number of times an element(x) occurs in a sorted array\n",
    "# For example given an array A = [1,2,3,4,4,4,5,5,6,6,6,7,7,7,7,9]\n",
    "# countOccurence(7) should return 4\n",
    "# while countOccurence(10) should return 0\n"
   ]
  },
  {
   "cell_type": "code",
   "execution_count": 4,
   "metadata": {},
   "outputs": [],
   "source": [
    "# Naive solution\n",
    "# Loop through the whole array and update a count variable \n",
    "# when the element(x) is found.\n",
    "def countOccurenceNaive(A,x):\n",
    "    count = 0\n",
    "    for i in A:\n",
    "        if x == i:\n",
    "            count += 1\n",
    "    return count"
   ]
  },
  {
   "cell_type": "code",
   "execution_count": 6,
   "metadata": {},
   "outputs": [],
   "source": [
    "A = [1,2,3,4,4,4,5,5,6,6,6,7,7,7,7,9]\n"
   ]
  },
  {
   "cell_type": "code",
   "execution_count": 7,
   "metadata": {},
   "outputs": [
    {
     "data": {
      "text/plain": [
       "4"
      ]
     },
     "execution_count": 7,
     "metadata": {},
     "output_type": "execute_result"
    }
   ],
   "source": [
    "countOccurenceNaive(A,7)"
   ]
  },
  {
   "cell_type": "code",
   "execution_count": 8,
   "metadata": {},
   "outputs": [
    {
     "data": {
      "text/plain": [
       "0"
      ]
     },
     "execution_count": 8,
     "metadata": {},
     "output_type": "execute_result"
    }
   ],
   "source": [
    "countOccurenceNaive(A,8)"
   ]
  },
  {
   "cell_type": "code",
   "execution_count": 9,
   "metadata": {},
   "outputs": [],
   "source": [
    "# A more effective solution is to find the \n",
    "# First and Last occurence of x using Binary search\n",
    "def binarySearchFirst (A,x):\n",
    "    start = 0\n",
    "    end = len(A) - 1\n",
    "    # Check if x is equal, less or greater than middle number\n",
    "    # If x is equal then return the middle index, \n",
    "    # If x is less than middle, make end index = middle index - 1, recalculate middle index then compare again\n",
    "    # If x is greater than middle, make start index = middle index + 1, recalculate middle index then compare again\n",
    "    # Keep running until start index = end index, if x is not found return a message indicating it wasn't found.\n",
    "    indexToreturn = 'Not Found'\n",
    "    while (start <= end):\n",
    "        mid = int((start+end)/2)\n",
    "        if x == A[mid]:\n",
    "            indexToreturn = mid\n",
    "            # shift the end to the left to see if there is a previous occurence of x\n",
    "            end = mid - 1\n",
    "        elif x < A[mid]:\n",
    "            end = mid -1\n",
    "        else:\n",
    "            start = mid + 1        \n",
    "    return indexToreturn"
   ]
  },
  {
   "cell_type": "code",
   "execution_count": 10,
   "metadata": {},
   "outputs": [],
   "source": [
    "def binarySearchLast (A,x):\n",
    "    start = 0\n",
    "    end = len(A) - 1\n",
    "    # Check if x is equal, less or greater than middle number\n",
    "    # If x is equal then return the middle index, \n",
    "    # If x is less than middle, make end index = middle index - 1, recalculate middle index then compare again\n",
    "    # If x is greater than middle, make start index = middle index + 1, recalculate middle index then compare again\n",
    "    # Keep running until start index = end index, if x is not found return a message indicating it wasn't found.\n",
    "    indexToreturn = 'Not Found'\n",
    "    while (start <= end):\n",
    "        mid = int((start+end)/2)\n",
    "        if x == A[mid]:\n",
    "            indexToreturn = mid\n",
    "            # shift the end to the right to see if there is a later occurence of x\n",
    "            start = mid + 1\n",
    "        elif x < A[mid]:\n",
    "            end = mid -1\n",
    "        else:\n",
    "            start = mid + 1        \n",
    "    return indexToreturn"
   ]
  },
  {
   "cell_type": "code",
   "execution_count": 14,
   "metadata": {},
   "outputs": [],
   "source": [
    "def countOccurenceBinary(A,x):\n",
    "    lastIndex = binarySearchLast(A,x)\n",
    "    firstIndex = binarySearchFirst(A,x)\n",
    "    if lastIndex == 'Not Found':\n",
    "        return 0\n",
    "    else:\n",
    "        return lastIndex-firstIndex+1"
   ]
  },
  {
   "cell_type": "code",
   "execution_count": 15,
   "metadata": {},
   "outputs": [
    {
     "data": {
      "text/plain": [
       "4"
      ]
     },
     "execution_count": 15,
     "metadata": {},
     "output_type": "execute_result"
    }
   ],
   "source": [
    "countOccurenceBinary(A,7)"
   ]
  },
  {
   "cell_type": "code",
   "execution_count": 16,
   "metadata": {},
   "outputs": [
    {
     "data": {
      "text/plain": [
       "0"
      ]
     },
     "execution_count": 16,
     "metadata": {},
     "output_type": "execute_result"
    }
   ],
   "source": [
    "countOccurenceBinary(A,8)"
   ]
  },
  {
   "cell_type": "code",
   "execution_count": 17,
   "metadata": {},
   "outputs": [
    {
     "data": {
      "text/plain": [
       "1"
      ]
     },
     "execution_count": 17,
     "metadata": {},
     "output_type": "execute_result"
    }
   ],
   "source": [
    "countOccurenceBinary(A,1)"
   ]
  },
  {
   "cell_type": "code",
   "execution_count": 18,
   "metadata": {},
   "outputs": [
    {
     "data": {
      "text/plain": [
       "1"
      ]
     },
     "execution_count": 18,
     "metadata": {},
     "output_type": "execute_result"
    }
   ],
   "source": [
    "countOccurenceBinary(A,2)"
   ]
  },
  {
   "cell_type": "code",
   "execution_count": null,
   "metadata": {},
   "outputs": [],
   "source": []
  }
 ],
 "metadata": {
  "kernelspec": {
   "display_name": "Python 3",
   "language": "python",
   "name": "python3"
  },
  "language_info": {
   "codemirror_mode": {
    "name": "ipython",
    "version": 3
   },
   "file_extension": ".py",
   "mimetype": "text/x-python",
   "name": "python",
   "nbconvert_exporter": "python",
   "pygments_lexer": "ipython3",
   "version": "3.6.4"
  }
 },
 "nbformat": 4,
 "nbformat_minor": 2
}
