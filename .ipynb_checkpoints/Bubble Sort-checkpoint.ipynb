{
 "cells": [
  {
   "cell_type": "code",
   "execution_count": 1,
   "metadata": {},
   "outputs": [],
   "source": [
    "# the bubble sort algorithm is a simple sorting algorithm\n",
    "# starting from the begining of the array to be sorted\n",
    "# the first two elements are compared, the larger element is\n",
    "# moved to the right, the next two elements are then compared and the larger element\n",
    "# is moved to the right, this continues until we are left with the last 2 elements\n",
    "# which are then compared, and the largest element would 'bubble' to the last index\n",
    "# if this procedure is repeated n-1 times, the array is guaranteed to be fully sorted.\n"
   ]
  },
  {
   "cell_type": "code",
   "execution_count": 2,
   "metadata": {},
   "outputs": [],
   "source": [
    "def bubbleSort(arr):\n",
    "    # outer loop to repeat the swap process n-1 times\n",
    "    for j in range(len(arr)):\n",
    "        # loop from the begining to the second to the last element\n",
    "        # then compare adjacent elements\n",
    "        # the largest element is moved to the right\n",
    "        for i in range(len(arr)-1):\n",
    "            if arr[i] > arr[i+1]:\n",
    "                arr[i],arr[i+1] = arr[i+1], arr[i]\n",
    "    return arr\n",
    "\n",
    "            "
   ]
  },
  {
   "cell_type": "code",
   "execution_count": 3,
   "metadata": {},
   "outputs": [
    {
     "data": {
      "text/plain": [
       "[1, 3, 4, 7, 9]"
      ]
     },
     "execution_count": 3,
     "metadata": {},
     "output_type": "execute_result"
    }
   ],
   "source": [
    "bubbleSort([7,4,3,9,1])"
   ]
  },
  {
   "cell_type": "code",
   "execution_count": 4,
   "metadata": {},
   "outputs": [],
   "source": [
    "# to improve the runtime of bubbleSort\n",
    "# two things can be done\n",
    "# 1. The first thing is to make sure that we don't loop into the \n",
    "# already sorted part, i.e, given arr = [7,3,2,4,1]\n",
    "# after the first loop, arr = [3,2,4,1,7], since the largest element, is \n",
    "# already in the last index, we don't need to compare it in the next run\n",
    "# hence we stop the next run before it, this can be achieved by making the last \n",
    "# element in the inner loop = len(arr)-j-1\n",
    "# 2. The second improvement, is to stop the outer loop once no swap is detected in the\n",
    "# inner loop, once there is no swap, this indicates the array is already sorted.\n"
   ]
  },
  {
   "cell_type": "code",
   "execution_count": null,
   "metadata": {},
   "outputs": [],
   "source": []
  }
 ],
 "metadata": {
  "kernelspec": {
   "display_name": "Python 3",
   "language": "python",
   "name": "python3"
  },
  "language_info": {
   "codemirror_mode": {
    "name": "ipython",
    "version": 3
   },
   "file_extension": ".py",
   "mimetype": "text/x-python",
   "name": "python",
   "nbconvert_exporter": "python",
   "pygments_lexer": "ipython3",
   "version": "3.6.4"
  }
 },
 "nbformat": 4,
 "nbformat_minor": 2
}
