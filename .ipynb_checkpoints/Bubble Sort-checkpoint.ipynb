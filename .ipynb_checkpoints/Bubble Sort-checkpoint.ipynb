{
 "cells": [
  {
   "cell_type": "code",
   "execution_count": 1,
   "metadata": {},
   "outputs": [],
   "source": [
    "# the bubble sort algorithm is a simple sorting algorithm\n",
    "# starting from the begining of the array to be sorted\n",
    "# the first two elements are compared, the larger element is\n",
    "# moved to the right, the next two elements are then compared and the larger element\n",
    "# is moved to the right, this continues until we are left with the last 2 elements\n",
    "# which are then compared, and the largest element would 'bubble' to the last index\n",
    "# if this procedure is repeated n-1 times, the array is guaranteed to be fully sorted.\n"
   ]
  },
  {
   "cell_type": "code",
   "execution_count": null,
   "metadata": {},
   "outputs": [],
   "source": []
  }
 ],
 "metadata": {
  "kernelspec": {
   "display_name": "Python 3",
   "language": "python",
   "name": "python3"
  },
  "language_info": {
   "codemirror_mode": {
    "name": "ipython",
    "version": 3
   },
   "file_extension": ".py",
   "mimetype": "text/x-python",
   "name": "python",
   "nbconvert_exporter": "python",
   "pygments_lexer": "ipython3",
   "version": "3.6.4"
  }
 },
 "nbformat": 4,
 "nbformat_minor": 2
}
