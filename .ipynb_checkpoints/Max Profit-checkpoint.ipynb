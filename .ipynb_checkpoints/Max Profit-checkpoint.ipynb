{
 "cells": [
  {
   "cell_type": "code",
   "execution_count": 1,
   "metadata": {},
   "outputs": [],
   "source": [
    "# Given an array of stock prices, that are arranged in increasing order \n",
    "# Of time, i.e A = [1,2,3,4], price 4 is the price of the stock at a later time\n",
    "# in comparison to the prices 1,2,3\n",
    "#The task is to find the maximum profit possible by buying a stock at an early time\n",
    "# and selling it at a later time, for example using the array A, we can buy at price 1\n",
    "# and sell at prices 2,3, or 4. But we can't buy at price 4 then go back in time to sell at price 1\n",
    "# also, you can't buy and sell at the same time, hence length of A has to be 2 at least."
   ]
  },
  {
   "cell_type": "code",
   "execution_count": null,
   "metadata": {},
   "outputs": [],
   "source": []
  }
 ],
 "metadata": {
  "kernelspec": {
   "display_name": "Python 3",
   "language": "python",
   "name": "python3"
  },
  "language_info": {
   "codemirror_mode": {
    "name": "ipython",
    "version": 3
   },
   "file_extension": ".py",
   "mimetype": "text/x-python",
   "name": "python",
   "nbconvert_exporter": "python",
   "pygments_lexer": "ipython3",
   "version": "3.6.4"
  }
 },
 "nbformat": 4,
 "nbformat_minor": 2
}
