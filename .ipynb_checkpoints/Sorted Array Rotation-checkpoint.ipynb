{
 "cells": [
  {
   "cell_type": "code",
   "execution_count": 1,
   "metadata": {},
   "outputs": [],
   "source": [
    "# Given a sorted array with distinct elements\n",
    "# For example A = [1,2,5,6,7,8,9]\n",
    "# The array can be rotated counter clockwise, by moving each element to the right\n",
    "# And bringing the last element to the beginning.\n",
    "# So one rotation of A would be --> [9,1,2,5,6,7,8]\n",
    "# Two rotation --> [8,9,1,2,5,6,7]\n",
    "# The goal is to figure out how many times a sorted array has been rotated\n"
   ]
  },
  {
   "cell_type": "code",
   "execution_count": 2,
   "metadata": {},
   "outputs": [],
   "source": [
    "# From the example given above, the number\n",
    "# of rotation is equivalent to the index of the smallest element\n"
   ]
  },
  {
   "cell_type": "code",
   "execution_count": 3,
   "metadata": {},
   "outputs": [],
   "source": [
    "# Naive solution, starting from the beginning of the array\n",
    "# Scan through until the smallest element is found.\n",
    "def rotationNaive(A):\n",
    "    # assume the original array was sorted\n",
    "    # assign the first element to the smallest number\n",
    "    smallest = A[0]\n",
    "    smallIndex = 0\n",
    "    # loop through the whole array, compare the value of each element and update smallest if less \n",
    "    # than smallest\n",
    "    for i in range(1,len(A)):\n",
    "        if A[i] < smallest:\n",
    "            smallest = A[i]\n",
    "            smallIndex = i\n",
    "    return smallIndex    "
   ]
  },
  {
   "cell_type": "code",
   "execution_count": 4,
   "metadata": {},
   "outputs": [],
   "source": [
    "A = [1,2,5,6,7,8,9]"
   ]
  },
  {
   "cell_type": "code",
   "execution_count": 5,
   "metadata": {},
   "outputs": [],
   "source": [
    "A1 = [9,1,2,5,6,7,8]"
   ]
  },
  {
   "cell_type": "code",
   "execution_count": 6,
   "metadata": {},
   "outputs": [],
   "source": [
    "A2 = [8,9,1,2,5,6,7]"
   ]
  },
  {
   "cell_type": "code",
   "execution_count": 7,
   "metadata": {},
   "outputs": [],
   "source": [
    "AS = [2,5,6,7,8,9,1]"
   ]
  },
  {
   "cell_type": "code",
   "execution_count": 8,
   "metadata": {},
   "outputs": [
    {
     "data": {
      "text/plain": [
       "0"
      ]
     },
     "execution_count": 8,
     "metadata": {},
     "output_type": "execute_result"
    }
   ],
   "source": [
    "rotationNaive(A)\n"
   ]
  },
  {
   "cell_type": "code",
   "execution_count": 9,
   "metadata": {},
   "outputs": [
    {
     "data": {
      "text/plain": [
       "1"
      ]
     },
     "execution_count": 9,
     "metadata": {},
     "output_type": "execute_result"
    }
   ],
   "source": [
    "rotationNaive(A1)"
   ]
  },
  {
   "cell_type": "code",
   "execution_count": 10,
   "metadata": {},
   "outputs": [
    {
     "data": {
      "text/plain": [
       "2"
      ]
     },
     "execution_count": 10,
     "metadata": {},
     "output_type": "execute_result"
    }
   ],
   "source": [
    "rotationNaive(A2)"
   ]
  },
  {
   "cell_type": "code",
   "execution_count": 11,
   "metadata": {},
   "outputs": [
    {
     "data": {
      "text/plain": [
       "6"
      ]
     },
     "execution_count": 11,
     "metadata": {},
     "output_type": "execute_result"
    }
   ],
   "source": [
    "rotationNaive(AS)"
   ]
  },
  {
   "cell_type": "code",
   "execution_count": 12,
   "metadata": {},
   "outputs": [],
   "source": [
    "# Effective solution is to apply binary search to find the smallest\n",
    "# Number index, which gives the number of times the array\n",
    "# has been rotated.\n",
    "# The key is that"
   ]
  },
  {
   "cell_type": "code",
   "execution_count": null,
   "metadata": {},
   "outputs": [],
   "source": [
    "def rotationEffective(A):\n",
    "    low = 0\n",
    "    high = len(A) - 1\n",
    "    if A[low] <= A[high]:\n",
    "        return low\n",
    "    mid = int(low+(high-low)/2)\n",
    "    if mid < high and A[mid+1] < A[mid]:\n",
    "        return (mid+1)\n",
    "    if mid > low and A[mid] < A[mid-1]:\n",
    "        return mid\n",
    "    if A[high] > A[mid]:\n",
    "        return rotationEffective()\n",
    "        \n",
    "    "
   ]
  }
 ],
 "metadata": {
  "kernelspec": {
   "display_name": "Python 3",
   "language": "python",
   "name": "python3"
  },
  "language_info": {
   "codemirror_mode": {
    "name": "ipython",
    "version": 3
   },
   "file_extension": ".py",
   "mimetype": "text/x-python",
   "name": "python",
   "nbconvert_exporter": "python",
   "pygments_lexer": "ipython3",
   "version": "3.6.4"
  }
 },
 "nbformat": 4,
 "nbformat_minor": 2
}
