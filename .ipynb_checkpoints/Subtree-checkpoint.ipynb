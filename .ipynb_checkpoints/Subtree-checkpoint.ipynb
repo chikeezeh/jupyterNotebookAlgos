{
 "cells": [
  {
   "cell_type": "markdown",
   "metadata": {},
   "source": [
    "![title](img/LyElHRq.jpg)"
   ]
  },
  {
   "cell_type": "markdown",
   "metadata": {},
   "source": [
    "We want to determine if a tree can be found within a larger tree.\n",
    "As shown above, the left tree is a subtree of the right tree."
   ]
  },
  {
   "cell_type": "code",
   "execution_count": 1,
   "metadata": {
    "collapsed": true
   },
   "outputs": [],
   "source": [
    "# Build our node class\n",
    "class Node:\n",
    "    def __init__(self,data):\n",
    "        self.data = str(data)\n",
    "        self.left = None\n",
    "        self.right = None\n",
    "# build our left tree\n",
    "root = Node(10)\n",
    "n1 = Node(4)\n",
    "n2 = Node(6)\n",
    "n3 = Node (30)\n",
    "# setup the children\n",
    "root.left = n1\n",
    "root.right = n2\n",
    "n1.right = n3\n",
    "\n",
    "# build our right tree\n",
    "root_r = Node(26)\n",
    "n1_r = Node(10)\n",
    "n2_r = Node(3)\n",
    "n3_r = Node(4)\n",
    "n4_r = Node(6)\n",
    "n5_r = Node(3)\n",
    "n6_r = Node(30)\n",
    "\n",
    "# setup children\n",
    "n3_r.right = n6_r\n",
    "n1_r.left = n3_r\n",
    "n1_r.right = n4_r\n",
    "n2_r.right = n5_r\n",
    "root_r.left = n1_r\n",
    "root_r.right = n2_r"
   ]
  },
  {
   "cell_type": "code",
   "execution_count": null,
   "metadata": {
    "collapsed": true
   },
   "outputs": [],
   "source": []
  }
 ],
 "metadata": {
  "kernelspec": {
   "display_name": "Python 3",
   "language": "python",
   "name": "python3"
  },
  "language_info": {
   "codemirror_mode": {
    "name": "ipython",
    "version": 3
   },
   "file_extension": ".py",
   "mimetype": "text/x-python",
   "name": "python",
   "nbconvert_exporter": "python",
   "pygments_lexer": "ipython3",
   "version": "3.6.2"
  }
 },
 "nbformat": 4,
 "nbformat_minor": 2
}
