{
 "cells": [
  {
   "cell_type": "code",
   "execution_count": 1,
   "metadata": {},
   "outputs": [],
   "source": [
    "# Binary trees are non-linear data structures\n",
    "# made up of nodes, nodes can have any data\n",
    "# each node has two or less child nodes\n",
    "# left child is always less than the or equal to parent node \n",
    "# and less than the right child node.\n",
    "\n"
   ]
  },
  {
   "cell_type": "code",
   "execution_count": 2,
   "metadata": {},
   "outputs": [],
   "source": [
    "# create a node class, with left and right child initialized to None\n",
    "class Node:\n",
    "    def __init__(self,data):\n",
    "        self.data = data\n",
    "        self.left = None\n",
    "        self.right = None\n"
   ]
  },
  {
   "cell_type": "code",
   "execution_count": 4,
   "metadata": {},
   "outputs": [],
   "source": [
    "# create nodes\n",
    "root = Node('F')\n",
    "n1 = Node ('B')\n",
    "n2 = Node('G')\n",
    "n3 = Node('A')\n",
    "n4 = Node('D')\n",
    "n5 = Node('I')\n",
    "n6 = Node('C')\n",
    "n7 = Node('E')\n",
    "n8 = Node('H')\n",
    "# create the children\n",
    "root.left = n1\n",
    "root.right = n2\n",
    "n1.left = n3\n",
    "n1.right = n4\n",
    "n2.right = n5\n",
    "n4.left = n6\n",
    "n4.right = n7\n",
    "n5.left = n8"
   ]
  },
  {
   "cell_type": "code",
   "execution_count": 6,
   "metadata": {},
   "outputs": [
    {
     "name": "stdout",
     "output_type": "stream",
     "text": [
      "['F', 'B', 'A', 'D', 'C', 'E', 'G', 'I', 'H']\n"
     ]
    }
   ],
   "source": [
    "# Pre order traversal\n",
    "# 1) Return the root node value.\n",
    "# 2) Traverse the left subtree by recursively calling the pre-order function.\n",
    "# 3) Traverse the right subtree by recursively calling the pre-order function.\n",
    "# the output of the pre order traversal would be an array of the values in the tree in the traversal order.\n",
    "def pre_order(root,nodes):\n",
    "    nodes.append(root.data)\n",
    "    # check if current node has left child, then recursively call pre_order on it too\n",
    "    if root and root.left:\n",
    "        pre_order(root.left, nodes)\n",
    "    # check if current node has right child, then recursively call pre_order on it too\n",
    "    if root and root.right:\n",
    "        pre_order(root.right, nodes)\n",
    "    return nodes\n",
    "print(pre_order(root,[]))\n"
   ]
  },
  {
   "cell_type": "code",
   "execution_count": 7,
   "metadata": {},
   "outputs": [
    {
     "name": "stdout",
     "output_type": "stream",
     "text": [
      "['A', 'B', 'C', 'D', 'E', 'F', 'G', 'H', 'I']\n"
     ]
    }
   ],
   "source": [
    "# In order traversal\n",
    "# 1) Traverse the left subtree by recursively calling the in-order function.\n",
    "# 2) Return the root node value.\n",
    "# 3) Traverse the right subtree by recursively calling the in-order function.\n",
    "def in_order(root,nodes):\n",
    "    # check if current node has left child, then recursively call pre_order on it too\n",
    "    if root and root.left:\n",
    "        in_order(root.left, nodes)\n",
    "    nodes.append(root.data)\n",
    "    # check if current node has right child, then recursively call pre_order on it too\n",
    "    if root and root.right:\n",
    "        in_order(root.right, nodes)\n",
    "    return nodes\n",
    "print(in_order(root,[]))"
   ]
  },
  {
   "cell_type": "code",
   "execution_count": null,
   "metadata": {},
   "outputs": [],
   "source": []
  }
 ],
 "metadata": {
  "kernelspec": {
   "display_name": "Python 3",
   "language": "python",
   "name": "python3"
  },
  "language_info": {
   "codemirror_mode": {
    "name": "ipython",
    "version": 3
   },
   "file_extension": ".py",
   "mimetype": "text/x-python",
   "name": "python",
   "nbconvert_exporter": "python",
   "pygments_lexer": "ipython3",
   "version": "3.6.4"
  }
 },
 "nbformat": 4,
 "nbformat_minor": 2
}
