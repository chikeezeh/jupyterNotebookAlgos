{
 "cells": [
  {
   "cell_type": "code",
   "execution_count": 23,
   "metadata": {},
   "outputs": [],
   "source": [
    "#given a sorted array (A) of size (n) obtain the index(i) of a given number(x) in the array"
   ]
  },
  {
   "cell_type": "code",
   "execution_count": 24,
   "metadata": {},
   "outputs": [],
   "source": [
    "A = [1,2,3,4,5,5,6,6,7,7,7,8,9,9,10]\n"
   ]
  },
  {
   "cell_type": "code",
   "execution_count": 47,
   "metadata": {},
   "outputs": [],
   "source": [
    "def binarySearchFirst (A,x):\n",
    "    start = 0\n",
    "    end = len(A) - 1\n",
    "    # Check if x is equal, less or greater than middle number\n",
    "    # If x is equal then return the middle index, \n",
    "    # If x is less than middle, make end index = middle index - 1, recalculate middle index then compare again\n",
    "    # If x is greater than middle, make start index = middle index + 1, recalculate middle index then compare again\n",
    "    # Keep running until start index = end index, if x is not found return a message indicating it wasn't found.\n",
    "    indexToreturn = 'Not Found'\n",
    "    while (start <= end):\n",
    "        mid = int((start+end)/2)\n",
    "        if x == A[mid]:\n",
    "            indexToreturn = mid\n",
    "            # shift the end to the left to see if there is a previous occurence of x\n",
    "            end = mid - 1\n",
    "        elif x < A[mid]:\n",
    "            end = mid -1\n",
    "        else:\n",
    "            start = mid + 1        \n",
    "    return indexToreturn"
   ]
  },
  {
   "cell_type": "code",
   "execution_count": 48,
   "metadata": {},
   "outputs": [
    {
     "data": {
      "text/plain": [
       "4"
      ]
     },
     "execution_count": 48,
     "metadata": {},
     "output_type": "execute_result"
    }
   ],
   "source": [
    "binarySearchFirst (A,5)"
   ]
  },
  {
   "cell_type": "code",
   "execution_count": 51,
   "metadata": {},
   "outputs": [],
   "source": [
    "def binarySearchLast (A,x):\n",
    "    start = 0\n",
    "    end = len(A) - 1\n",
    "    # Check if x is equal, less or greater than middle number\n",
    "    # If x is equal then return the middle index, \n",
    "    # If x is less than middle, make end index = middle index - 1, recalculate middle index then compare again\n",
    "    # If x is greater than middle, make start index = middle index + 1, recalculate middle index then compare again\n",
    "    # Keep running until start index = end index, if x is not found return a message indicating it wasn't found.\n",
    "    indexToreturn = 'Not Found'\n",
    "    while (start <= end):\n",
    "        mid = int((start+end)/2)\n",
    "        if x == A[mid]:\n",
    "            indexToreturn = mid\n",
    "            # shift the end to the right to see if there is a later occurence of x\n",
    "            start = mid + 1\n",
    "        elif x < A[mid]:\n",
    "            end = mid -1\n",
    "        else:\n",
    "            start = mid + 1        \n",
    "    return indexToreturn"
   ]
  },
  {
   "cell_type": "code",
   "execution_count": 53,
   "metadata": {},
   "outputs": [
    {
     "data": {
      "text/plain": [
       "10"
      ]
     },
     "execution_count": 53,
     "metadata": {},
     "output_type": "execute_result"
    }
   ],
   "source": [
    "binarySearchLast (A,7)"
   ]
  },
  {
   "cell_type": "code",
   "execution_count": null,
   "metadata": {},
   "outputs": [],
   "source": []
  }
 ],
 "metadata": {
  "kernelspec": {
   "display_name": "Python 3",
   "language": "python",
   "name": "python3"
  },
  "language_info": {
   "codemirror_mode": {
    "name": "ipython",
    "version": 3
   },
   "file_extension": ".py",
   "mimetype": "text/x-python",
   "name": "python",
   "nbconvert_exporter": "python",
   "pygments_lexer": "ipython3",
   "version": "3.6.4"
  }
 },
 "nbformat": 4,
 "nbformat_minor": 2
}
