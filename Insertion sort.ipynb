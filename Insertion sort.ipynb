{
 "cells": [
  {
   "cell_type": "code",
   "execution_count": 1,
   "metadata": {},
   "outputs": [],
   "source": [
    "# The first element is considered sorted,\n",
    "# Then we pick the next element, and insert is in the\n",
    "# Proper position by comparing it to the first element\n",
    "# if it is greater than the first element, its index is not changed\n",
    "# if it is less than the first element, its index is moved to a lower index\n",
    "# For example A = [3,2,6,1,4], first element is = 3\n",
    "# 5 is compared to 3 and the resulting array would be [2,3,6,1,4]\n",
    "# the first 2 elements are considered fully sorted,\n",
    "# the 3rd element 6 is then compared to [2,3], since 6 is greater than 3\n",
    "# the resulting array is then [2,3,6,1,4], \n",
    "# 1 is compared to [2,3,6], 1 is shifted all the way to index 0 since it is the smallest element\n",
    "# So we have [1,2,3,6,4], 4 is then compared to the elements in [1,2,3,6]\n",
    "# for is moved to index 3 since it is greater than 3 but less than 6\n"
   ]
  },
  {
   "cell_type": "code",
   "execution_count": null,
   "metadata": {},
   "outputs": [],
   "source": []
  }
 ],
 "metadata": {
  "kernelspec": {
   "display_name": "Python 3",
   "language": "python",
   "name": "python3"
  },
  "language_info": {
   "codemirror_mode": {
    "name": "ipython",
    "version": 3
   },
   "file_extension": ".py",
   "mimetype": "text/x-python",
   "name": "python",
   "nbconvert_exporter": "python",
   "pygments_lexer": "ipython3",
   "version": "3.6.4"
  }
 },
 "nbformat": 4,
 "nbformat_minor": 2
}
