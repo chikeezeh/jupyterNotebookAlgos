{
 "cells": [
  {
   "cell_type": "code",
   "execution_count": 1,
   "metadata": {},
   "outputs": [],
   "source": [
    "# Given an array of stock prices, that are arranged in increasing order \n",
    "# Of time, i.e A = [1,2,3,4], price 4 is the price of the stock at a later time\n",
    "# in comparison to the prices 1,2,3\n",
    "#The task is to find the maximum profit possible by buying a stock at an early time\n",
    "# and selling it at a later time, for example using the array A, we can buy at price 1\n",
    "# and sell at prices 2,3, or 4. But we can't buy at price 4 then go back in time to sell at price 1\n",
    "# also, you can't buy and sell at the same time, hence length of A has to be 2 at least."
   ]
  },
  {
   "cell_type": "code",
   "execution_count": 6,
   "metadata": {},
   "outputs": [
    {
     "name": "stdout",
     "output_type": "stream",
     "text": [
      "7\n",
      "0\n",
      "-1\n"
     ]
    }
   ],
   "source": [
    "# naive solution involves looping through the entire array\n",
    "# calculating the difference between each element and the elements preceeding it\n",
    "# then checking if that result is the maximum possible value.\n",
    "# the run time is O(n^2)\n",
    "def maxProfitNaive(arr):\n",
    "    if len(arr) < 2:\n",
    "        raise ValueError(\"You require 2 days to calculate profit\")\n",
    "    maxAmount = arr[1] - arr[0]\n",
    "    # outer loop, the last element is not accessed\n",
    "    # this prevents index overflow\n",
    "    for i in range(len(arr)-1):\n",
    "        for j in range(i+1,len(arr)):\n",
    "            maxAmount = max(arr[j] - arr[i],maxAmount)\n",
    "    return maxAmount\n",
    "print(maxProfitNaive([10,2,5,7,1,8]))\n",
    "print(maxProfitNaive([10,10,10,10,10,10]))\n",
    "print(maxProfitNaive([10,8,7,4,1]))"
   ]
  },
  {
   "cell_type": "code",
   "execution_count": 8,
   "metadata": {},
   "outputs": [
    {
     "name": "stdout",
     "output_type": "stream",
     "text": [
      "7\n",
      "0\n",
      "-1\n"
     ]
    }
   ],
   "source": [
    "# a more optimal solution traverses the array once\n",
    "# each time it passes an element, we keep a record of\n",
    "# if that is the smallest element we have seen\n",
    "# the maximum profit would be the difference between the smallest buy price\n",
    "# and the largest number after the smallest number\n",
    "def maxProfitOpt(arr):\n",
    "    if len(arr) < 2 :\n",
    "        raise ValueError(\"You require 2 days to calculate profit\")\n",
    "    minBuy = arr[0]\n",
    "    maxAmount = arr[1] - arr[0]\n",
    "    # loop through the elements starting from the second element, so that we don't\n",
    "    # subtract from the current price\n",
    "    for i in range(1,len(arr)):\n",
    "        maxAmount = max((arr[i]-minBuy), maxAmount)\n",
    "        minBuy = min(minBuy,arr[i])\n",
    "    return maxAmount\n",
    "print(maxProfitOpt([10,2,5,7,1,8]))\n",
    "print(maxProfitOpt([10,10,10,10,10,10]))\n",
    "print(maxProfitOpt([10,8,7,4,1]))"
   ]
  },
  {
   "cell_type": "code",
   "execution_count": null,
   "metadata": {},
   "outputs": [],
   "source": []
  }
 ],
 "metadata": {
  "kernelspec": {
   "display_name": "Python 3",
   "language": "python",
   "name": "python3"
  },
  "language_info": {
   "codemirror_mode": {
    "name": "ipython",
    "version": 3
   },
   "file_extension": ".py",
   "mimetype": "text/x-python",
   "name": "python",
   "nbconvert_exporter": "python",
   "pygments_lexer": "ipython3",
   "version": "3.6.4"
  }
 },
 "nbformat": 4,
 "nbformat_minor": 2
}
