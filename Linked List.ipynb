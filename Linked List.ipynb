{
 "cells": [
  {
   "cell_type": "code",
   "execution_count": 1,
   "metadata": {
    "collapsed": true
   },
   "outputs": [],
   "source": [
    "# A linked list consists of a group of nodes\n",
    "# where each node may point to another node to form \n",
    "# a sequence. Each node contains two fields, a \"data\" and \"next\" field.\n"
   ]
  },
  {
   "cell_type": "code",
   "execution_count": 4,
   "metadata": {
    "collapsed": true
   },
   "outputs": [],
   "source": [
    "# Linked lists are useful and simple data structures and are \n",
    "# sometimes preferred over using arrays because inserting or deleting \n",
    "# elements can be done without reallocation or reorganization of the entire structure. \n",
    "\n",
    "# If, for example, you wanted to add an element to the beginning of the array, \n",
    "# every single other element would need to be moved and the array would need to make \n",
    "# space for one extra element. Inserting an element at the beginning of a linked list \n",
    "# simply requires you to create a new node and set its \"next\" field to point to some node, \n",
    "# making this new node the first node in the sequence now."
   ]
  },
  {
   "cell_type": "code",
   "execution_count": 4,
   "metadata": {
    "collapsed": true
   },
   "outputs": [],
   "source": [
    "# create a node class, that has 'data' and 'next' fields\n",
    "class Node:\n",
    "    def __init__(self,data,next):\n",
    "        self.data = data\n",
    "        self.next = next"
   ]
  },
  {
   "cell_type": "code",
   "execution_count": 7,
   "metadata": {
    "collapsed": true
   },
   "outputs": [],
   "source": [
    "# we call our node class\n",
    "n1 = Node('Hello',None)"
   ]
  },
  {
   "cell_type": "code",
   "execution_count": 8,
   "metadata": {},
   "outputs": [
    {
     "data": {
      "text/plain": [
       "__main__.Node"
      ]
     },
     "execution_count": 8,
     "metadata": {},
     "output_type": "execute_result"
    }
   ],
   "source": [
    "# check the type of n1\n",
    "type(n1)"
   ]
  },
  {
   "cell_type": "code",
   "execution_count": 9,
   "metadata": {
    "collapsed": true
   },
   "outputs": [],
   "source": [
    "# to make a linked list, we connect the new node to n1\n",
    "n2 = Node(\"21\",n1)"
   ]
  },
  {
   "cell_type": "code",
   "execution_count": 10,
   "metadata": {
    "collapsed": true
   },
   "outputs": [],
   "source": [
    "n3 = Node(\"Green\",n2)"
   ]
  },
  {
   "cell_type": "code",
   "execution_count": 11,
   "metadata": {},
   "outputs": [
    {
     "data": {
      "text/plain": [
       "'Green'"
      ]
     },
     "execution_count": 11,
     "metadata": {},
     "output_type": "execute_result"
    }
   ],
   "source": [
    "n3.data"
   ]
  },
  {
   "cell_type": "code",
   "execution_count": 12,
   "metadata": {},
   "outputs": [
    {
     "data": {
      "text/plain": [
       "<__main__.Node at 0x255d3feb5f8>"
      ]
     },
     "execution_count": 12,
     "metadata": {},
     "output_type": "execute_result"
    }
   ],
   "source": [
    "n3.next"
   ]
  },
  {
   "cell_type": "code",
   "execution_count": 13,
   "metadata": {
    "collapsed": true
   },
   "outputs": [],
   "source": [
    "n1.next"
   ]
  },
  {
   "cell_type": "code",
   "execution_count": 15,
   "metadata": {
    "collapsed": true
   },
   "outputs": [],
   "source": [
    "# assign the head node\n",
    "head = n3"
   ]
  },
  {
   "cell_type": "code",
   "execution_count": 16,
   "metadata": {
    "collapsed": true
   },
   "outputs": [],
   "source": [
    "# additional task find the middle element of a linked list"
   ]
  },
  {
   "cell_type": "code",
   "execution_count": 3,
   "metadata": {
    "collapsed": true
   },
   "outputs": [],
   "source": [
    "# to find the middle element of a linked list\n",
    "# naive solution would loop from the head node\n",
    "# to the end where next = None, keeping count of\n",
    "# the number of nodes, then loop again till you get \n",
    "# half the number of nodes in the list\n"
   ]
  },
  {
   "cell_type": "code",
   "execution_count": 12,
   "metadata": {
    "collapsed": true
   },
   "outputs": [],
   "source": [
    "n1 = Node(\"Hello\", None)  \n",
    "n2 = Node(\"21\", n1)\n",
    "n3 = Node(\"Green\", n2) \n",
    "n4 = Node(\"Blue\", n3)\n",
    "n5 = Node(\"Daniel\", n4)\n",
    "head = n5"
   ]
  },
  {
   "cell_type": "code",
   "execution_count": 52,
   "metadata": {},
   "outputs": [
    {
     "name": "stdout",
     "output_type": "stream",
     "text": [
      "21\n"
     ]
    }
   ],
   "source": [
    "n1 = Node(\"Hello\", None)  \n",
    "n2 = Node(\"21\", n1)\n",
    "n3 = Node(\"Green\", n2) \n",
    "n4 = Node(\"Blue\", n3)\n",
    "n5 = Node(\"Daniel\", n4)\n",
    "head = n5\n",
    "pointer = head\n",
    "counter = 1\n",
    "while pointer.next != None:\n",
    "    pointer = pointer.next\n",
    "    counter = counter + 1\n",
    "half_way = int(counter/2)\n",
    "pointer = head\n",
    "for i in range(half_way):\n",
    "    pointer = pointer.next\n",
    "print(pointer.data)"
   ]
  },
  {
   "cell_type": "code",
   "execution_count": null,
   "metadata": {
    "collapsed": true
   },
   "outputs": [],
   "source": []
  }
 ],
 "metadata": {
  "kernelspec": {
   "display_name": "Python 3",
   "language": "python",
   "name": "python3"
  },
  "language_info": {
   "codemirror_mode": {
    "name": "ipython",
    "version": 3
   },
   "file_extension": ".py",
   "mimetype": "text/x-python",
   "name": "python",
   "nbconvert_exporter": "python",
   "pygments_lexer": "ipython3",
   "version": "3.6.2"
  }
 },
 "nbformat": 4,
 "nbformat_minor": 2
}
