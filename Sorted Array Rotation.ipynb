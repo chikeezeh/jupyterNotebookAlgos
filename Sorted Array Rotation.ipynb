{
 "cells": [
  {
   "cell_type": "code",
   "execution_count": 3,
   "metadata": {},
   "outputs": [],
   "source": [
    "# Given a sorted array with distinct elements\n",
    "# For example A = [1,2,5,6,7,8,9]\n",
    "# The array can be rotated counter clockwise, by moving each element to the right\n",
    "# And bringing the last element to the beginning.\n",
    "# So one rotation of A would be --> [9,1,2,5,6,7,8]\n",
    "# Two rotation --> [8,9,1,2,5,6,7]\n",
    "# The goal is to figure out how many times a sorted array has been rotated\n"
   ]
  },
  {
   "cell_type": "code",
   "execution_count": null,
   "metadata": {},
   "outputs": [],
   "source": []
  }
 ],
 "metadata": {
  "kernelspec": {
   "display_name": "Python 3",
   "language": "python",
   "name": "python3"
  },
  "language_info": {
   "codemirror_mode": {
    "name": "ipython",
    "version": 3
   },
   "file_extension": ".py",
   "mimetype": "text/x-python",
   "name": "python",
   "nbconvert_exporter": "python",
   "pygments_lexer": "ipython3",
   "version": "3.6.4"
  }
 },
 "nbformat": 4,
 "nbformat_minor": 2
}
